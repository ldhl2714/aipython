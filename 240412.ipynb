{
  "nbformat": 4,
  "nbformat_minor": 0,
  "metadata": {
    "colab": {
      "provenance": [],
      "authorship_tag": "ABX9TyMqP5DGrBq3lP+k5XauQ1PR",
      "include_colab_link": true
    },
    "kernelspec": {
      "name": "python3",
      "display_name": "Python 3"
    },
    "language_info": {
      "name": "python"
    }
  },
  "cells": [
    {
      "cell_type": "markdown",
      "metadata": {
        "id": "view-in-github",
        "colab_type": "text"
      },
      "source": [
        "<a href=\"https://colab.research.google.com/github/ldhl2714/aipython/blob/main/240412.ipynb\" target=\"_parent\"><img src=\"https://colab.research.google.com/assets/colab-badge.svg\" alt=\"Open In Colab\"/></a>"
      ]
    },
    {
      "cell_type": "code",
      "execution_count": null,
      "metadata": {
        "colab": {
          "base_uri": "https://localhost:8080/"
        },
        "id": "Ppw4OKTy4Z7g",
        "outputId": "66b57239-2ae0-4a57-db0b-9d4d0f5a860f"
      },
      "outputs": [
        {
          "output_type": "stream",
          "name": "stdout",
          "text": [
            "apple\n",
            "50\n"
          ]
        }
      ],
      "source": [
        "fruits=[\"banana\",\"apple\",\"orange\",\"cherry\"]\n",
        "numbers=[10,20,30,40,50]\n",
        "\n",
        "print(fruits[1])\n",
        "print(numbers[-1])"
      ]
    },
    {
      "cell_type": "code",
      "source": [
        "fruits=[\"apple\",\"banana\",\"cherry\"]\n",
        "\n",
        "fruits[1]=\"grape\"\n",
        "print(fruits)"
      ],
      "metadata": {
        "colab": {
          "base_uri": "https://localhost:8080/"
        },
        "id": "BpvH2UOnDS48",
        "outputId": "5e0ef2d3-c253-43a1-8a02-e8c5de71fa94"
      },
      "execution_count": null,
      "outputs": [
        {
          "output_type": "stream",
          "name": "stdout",
          "text": [
            "['apple', 'grape', 'cherry']\n"
          ]
        }
      ]
    },
    {
      "cell_type": "code",
      "source": [
        "fruits=[\"apple\",\"banana\",\"cherry\"]\n",
        "fruits.append(\"strawberry\")\n",
        "print(fruits)"
      ],
      "metadata": {
        "colab": {
          "base_uri": "https://localhost:8080/"
        },
        "id": "IRg4YR3rDsQf",
        "outputId": "95b5f524-5d5f-4138-da0d-3dd5e5094a3d"
      },
      "execution_count": null,
      "outputs": [
        {
          "output_type": "stream",
          "name": "stdout",
          "text": [
            "['apple', 'banana', 'cherry', 'strawberry']\n"
          ]
        }
      ]
    },
    {
      "cell_type": "code",
      "source": [
        "numbers=[10,20,30,40,50]\n",
        "numbers.remove(30)\n",
        "print(numbers)"
      ],
      "metadata": {
        "colab": {
          "base_uri": "https://localhost:8080/"
        },
        "id": "ni9N4xvPDy0S",
        "outputId": "ef6e8b4c-f511-48ac-b0fc-67072ebacc05"
      },
      "execution_count": null,
      "outputs": [
        {
          "output_type": "stream",
          "name": "stdout",
          "text": [
            "[10, 20, 40, 50]\n"
          ]
        }
      ]
    },
    {
      "cell_type": "code",
      "source": [
        "numbers=[5,10,15,20,25]\n",
        "print(len(numbers))"
      ],
      "metadata": {
        "colab": {
          "base_uri": "https://localhost:8080/"
        },
        "id": "yqLSvbdHECTG",
        "outputId": "7c0d36f0-b10c-43be-fb59-599288cc47a1"
      },
      "execution_count": null,
      "outputs": [
        {
          "output_type": "stream",
          "name": "stdout",
          "text": [
            "5\n"
          ]
        }
      ]
    },
    {
      "cell_type": "code",
      "source": [
        "numbers=[10,5,8,3,15]\n",
        "print(min(numbers))\n",
        "print(max(numbers))"
      ],
      "metadata": {
        "colab": {
          "base_uri": "https://localhost:8080/"
        },
        "id": "xnSNcTmkEav2",
        "outputId": "7ec5469f-c429-4068-a7e9-1b0be596e7ca"
      },
      "execution_count": null,
      "outputs": [
        {
          "output_type": "stream",
          "name": "stdout",
          "text": [
            "3\n"
          ]
        }
      ]
    },
    {
      "cell_type": "code",
      "source": [
        "numbers=[10,20,30,40,50]\n",
        "print(sum(numbers))"
      ],
      "metadata": {
        "colab": {
          "base_uri": "https://localhost:8080/"
        },
        "id": "c86V8xfbEiym",
        "outputId": "d45ca584-920a-4e20-bd91-44a86998c245"
      },
      "execution_count": null,
      "outputs": [
        {
          "output_type": "stream",
          "name": "stdout",
          "text": [
            "150\n"
          ]
        }
      ]
    },
    {
      "cell_type": "code",
      "source": [
        "fruits=[\"apple\",\"banana\",\"apple\",\"cherry\",\"apple\"]\n",
        "print(fruits.count(\"apple\"))"
      ],
      "metadata": {
        "colab": {
          "base_uri": "https://localhost:8080/"
        },
        "id": "KcxOoA9bExVM",
        "outputId": "ac5cd76a-659a-4e2a-e3b6-71dab1ce875c"
      },
      "execution_count": null,
      "outputs": [
        {
          "output_type": "stream",
          "name": "stdout",
          "text": [
            "3\n"
          ]
        }
      ]
    },
    {
      "cell_type": "code",
      "source": [
        "numbers=[1,2,3,4,5]\n",
        "num2=[]\n",
        "for i in numbers:\n",
        "  num2.append(i**2)\n",
        "print(num2)"
      ],
      "metadata": {
        "colab": {
          "base_uri": "https://localhost:8080/"
        },
        "id": "Ugcn5X3BE4hy",
        "outputId": "5ed5dd92-39e2-464f-ddab-12c5e99262ff"
      },
      "execution_count": null,
      "outputs": [
        {
          "output_type": "stream",
          "name": "stdout",
          "text": [
            "[1, 4, 9, 16, 25]\n"
          ]
        }
      ]
    },
    {
      "cell_type": "code",
      "source": [
        "def square(x):\n",
        "  return x**2"
      ],
      "metadata": {
        "id": "QmFbN6ADLQ9-"
      },
      "execution_count": null,
      "outputs": []
    },
    {
      "cell_type": "code",
      "source": [
        "print(square(5))"
      ],
      "metadata": {
        "colab": {
          "base_uri": "https://localhost:8080/"
        },
        "id": "_68B_arSLagp",
        "outputId": "b634f619-2ee1-447d-bd48-8503b1dd154e"
      },
      "execution_count": null,
      "outputs": [
        {
          "output_type": "stream",
          "name": "stdout",
          "text": [
            "25\n"
          ]
        }
      ]
    },
    {
      "cell_type": "code",
      "source": [
        "def bmi(h,w):\n",
        "  bmi=w/(h**2)\n",
        "  return bmi\n",
        "x=float(input(\"키\"))\n",
        "y=float(input(\"몸무게\"))\n",
        "\n",
        "print(bmi(x,y))"
      ],
      "metadata": {
        "id": "VriXvHXIONxJ",
        "colab": {
          "base_uri": "https://localhost:8080/"
        },
        "outputId": "bd04a99d-8e76-4cc1-8b6a-26619c984819"
      },
      "execution_count": 14,
      "outputs": [
        {
          "output_type": "stream",
          "name": "stdout",
          "text": [
            "키1.6\n",
            "몸무게60\n",
            "23.437499999999996\n"
          ]
        }
      ]
    },
    {
      "cell_type": "code",
      "source": [
        "def square(numbers):\n",
        "  new=[]\n",
        "  for num in numbers:\n",
        "      new.append(num**2)\n",
        "      return new\n"
      ],
      "metadata": {
        "id": "YZOYjyr7Lk1V"
      },
      "execution_count": 11,
      "outputs": []
    },
    {
      "cell_type": "code",
      "source": [],
      "metadata": {
        "id": "cvRDRdX_OKAs"
      },
      "execution_count": null,
      "outputs": []
    }
  ]
}