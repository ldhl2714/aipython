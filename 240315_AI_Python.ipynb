{
  "nbformat": 4,
  "nbformat_minor": 0,
  "metadata": {
    "colab": {
      "provenance": []
    },
    "kernelspec": {
      "name": "python3",
      "display_name": "Python 3"
    },
    "language_info": {
      "name": "python"
    }
  },
  "cells": [
    {
      "cell_type": "markdown",
      "source": [
        "#####두 수 입력, 합 출력 프로그램"
      ],
      "metadata": {
        "id": "SRJlakoJAG6x"
      }
    },
    {
      "cell_type": "code",
      "execution_count": 1,
      "metadata": {
        "id": "XQkXGK4cvzxc",
        "colab": {
          "base_uri": "https://localhost:8080/"
        },
        "outputId": "8abbd1fa-5f55-46f6-d20d-b1e7892cb9a9"
      },
      "outputs": [
        {
          "output_type": "stream",
          "name": "stdout",
          "text": [
            "1 2\n",
            "3\n"
          ]
        }
      ],
      "source": [
        "A,B = map(int,input(\"두 정수를 입력하세요.\").split())\n",
        "result = A + B\n",
        "print(result)"
      ]
    },
    {
      "cell_type": "code",
      "source": [
        "print(\"Hello Python\")"
      ],
      "metadata": {
        "colab": {
          "base_uri": "https://localhost:8080/"
        },
        "id": "Uhr4B9Xw_RwE",
        "outputId": "7175dc18-ca71-4897-9169-2c5cd4318f66"
      },
      "execution_count": 2,
      "outputs": [
        {
          "output_type": "stream",
          "name": "stdout",
          "text": [
            "Hello Python\n"
          ]
        }
      ]
    },
    {
      "cell_type": "code",
      "source": [],
      "metadata": {
        "id": "ShFxOIYY_lG9"
      },
      "execution_count": null,
      "outputs": []
    }
  ]
}