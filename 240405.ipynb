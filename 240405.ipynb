{
  "nbformat": 4,
  "nbformat_minor": 0,
  "metadata": {
    "colab": {
      "provenance": [],
      "authorship_tag": "ABX9TyNAhDZtkdv2+cs6NP4MwlEe",
      "include_colab_link": true
    },
    "kernelspec": {
      "name": "python3",
      "display_name": "Python 3"
    },
    "language_info": {
      "name": "python"
    }
  },
  "cells": [
    {
      "cell_type": "markdown",
      "metadata": {
        "id": "view-in-github",
        "colab_type": "text"
      },
      "source": [
        "<a href=\"https://colab.research.google.com/github/ldhl2714/aipython/blob/main/240405.ipynb\" target=\"_parent\"><img src=\"https://colab.research.google.com/assets/colab-badge.svg\" alt=\"Open In Colab\"/></a>"
      ]
    },
    {
      "cell_type": "code",
      "execution_count": 4,
      "metadata": {
        "colab": {
          "base_uri": "https://localhost:8080/"
        },
        "id": "uKv2B7vB74Im",
        "outputId": "b86d4a43-0388-451f-a2b4-656903024b74"
      },
      "outputs": [
        {
          "output_type": "stream",
          "name": "stdout",
          "text": [
            "a 입력5\n",
            "a는 홀수입니다.\n",
            "프로그램 종료\n"
          ]
        }
      ],
      "source": [
        "a = int(input(\"a 입력\"))\n",
        "\n",
        "if a % 2 == 0 :\n",
        "    print(\"a는 짝수입니다.\")\n",
        "elif a % 2 == 1 :\n",
        "    print(\"a는 홀수입니다.\")\n",
        "\n",
        "print(\"프로그램 종료\")"
      ]
    },
    {
      "cell_type": "code",
      "source": [
        "a = int(input(\"a 입력\"))\n",
        "\n",
        "if a<5:\n",
        "    print(\"a는 5보다 작습니다.\")\n",
        "elif a>5 :\n",
        "    print(\"a는 5보다 큽니다.\")\n",
        "else:\n",
        "  print(\"a는 5입니다.\")\n"
      ],
      "metadata": {
        "colab": {
          "base_uri": "https://localhost:8080/"
        },
        "id": "CY2rP8yV75zA",
        "outputId": "843b39ef-9976-459a-cf45-85def678b4c6"
      },
      "execution_count": 3,
      "outputs": [
        {
          "output_type": "stream",
          "name": "stdout",
          "text": [
            "a 입력10\n",
            "a는 5보다 큽니다.\n",
            "프로그램 종료\n"
          ]
        }
      ]
    },
    {
      "cell_type": "code",
      "source": [
        "a = int(input(\"점수 입력\"))\n",
        "\n",
        "if a>=90 :\n",
        "    print(\"A\")\n",
        "elif a>=80 :\n",
        "    print(\"B\")\n",
        "elif a>=70 :\n",
        "    print(\"C\")\n",
        "elif a>=60 :\n",
        "    print(\"D\")\n",
        "else:\n",
        "  print(\"F\")"
      ],
      "metadata": {
        "colab": {
          "base_uri": "https://localhost:8080/"
        },
        "id": "-QlwVJ2O8NZ8",
        "outputId": "f3e044c9-120f-4ba7-f689-ceeefa304413"
      },
      "execution_count": 7,
      "outputs": [
        {
          "output_type": "stream",
          "name": "stdout",
          "text": [
            "점수 입력90\n",
            "A\n",
            "프로그램 종료\n"
          ]
        }
      ]
    },
    {
      "cell_type": "code",
      "source": [
        "a=0\n",
        "b=0\n",
        "for i in range(1,11,2):\n",
        "  a=a+i\n",
        "print (a)\n",
        "for i in range(2,11,2):\n",
        "  b=b+i\n",
        "print (b)"
      ],
      "metadata": {
        "colab": {
          "base_uri": "https://localhost:8080/"
        },
        "id": "HDodjlNx-UZL",
        "outputId": "3c6bf13b-8975-40f1-a25f-aacc5d9bc61d"
      },
      "execution_count": 62,
      "outputs": [
        {
          "output_type": "stream",
          "name": "stdout",
          "text": [
            "25\n",
            "30\n"
          ]
        }
      ]
    },
    {
      "cell_type": "code",
      "source": [
        "a=0\n",
        "b=0\n",
        "for i in range(1,11):\n",
        "  if i%2==1:\n",
        "    a+=i\n",
        "  else:\n",
        "    b+=i\n",
        "print(\"홀수 합 %d, 짝수합 %d\"%(a,b))"
      ],
      "metadata": {
        "colab": {
          "base_uri": "https://localhost:8080/"
        },
        "id": "T_pPAKrrJkom",
        "outputId": "7ed5c249-cb88-4666-8b74-aa97e0439a30"
      },
      "execution_count": 71,
      "outputs": [
        {
          "output_type": "stream",
          "name": "stdout",
          "text": [
            "홀수 합 25, 짝수합 30\n"
          ]
        }
      ]
    },
    {
      "cell_type": "code",
      "source": [
        "for i in range(1,10):\n",
        "  if  i % 2==1:\n",
        "    continue\n",
        "  print (i)"
      ],
      "metadata": {
        "colab": {
          "base_uri": "https://localhost:8080/"
        },
        "id": "Ui7k6Dgn_2WC",
        "outputId": "3b6cff70-1660-4ee2-9f84-1c3fb2ae289b"
      },
      "execution_count": 58,
      "outputs": [
        {
          "output_type": "stream",
          "name": "stdout",
          "text": [
            "2\n",
            "4\n",
            "6\n",
            "8\n"
          ]
        }
      ]
    },
    {
      "cell_type": "code",
      "source": [
        "x=0\n",
        "n = int(input())\n",
        "for i in range(1,n+1):\n",
        "  x+=i\n",
        "print (x)"
      ],
      "metadata": {
        "colab": {
          "base_uri": "https://localhost:8080/"
        },
        "id": "0ZA3ehTMNwMT",
        "outputId": "eb325e80-fee7-41bb-8920-5373f5742b30"
      },
      "execution_count": 78,
      "outputs": [
        {
          "output_type": "stream",
          "name": "stdout",
          "text": [
            "10\n",
            "55\n"
          ]
        }
      ]
    },
    {
      "cell_type": "code",
      "source": [
        "n = int(input())\n",
        "for i in range(1,n):\n",
        "  n+=i\n",
        "  print (n)"
      ],
      "metadata": {
        "colab": {
          "base_uri": "https://localhost:8080/"
        },
        "id": "o7g7fY1kNw0T",
        "outputId": "a9d8721a-e97e-4e29-cde2-4b1e8b7c62f3"
      },
      "execution_count": 83,
      "outputs": [
        {
          "output_type": "stream",
          "name": "stdout",
          "text": [
            "3\n",
            "4\n",
            "6\n"
          ]
        }
      ]
    },
    {
      "cell_type": "code",
      "source": [
        "n = int(input())\n",
        "for i in range(1,n):\n",
        "  n+=i\n",
        "  print (n)"
      ],
      "metadata": {
        "colab": {
          "base_uri": "https://localhost:8080/"
        },
        "id": "e065CfC9OZei",
        "outputId": "28b9eee4-fbbf-4319-8b64-4571591bb4e4"
      },
      "execution_count": 86,
      "outputs": [
        {
          "output_type": "stream",
          "name": "stdout",
          "text": [
            "5\n",
            "6\n",
            "8\n",
            "11\n",
            "15\n"
          ]
        }
      ]
    }
  ]
}